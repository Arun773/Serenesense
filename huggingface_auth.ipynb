{
 "cells": [
  {
   "cell_type": "markdown",
   "id": "30f1a28d",
   "metadata": {},
   "source": [
    "# Hugging Face Hub Authentication Setup\n",
    "\n",
    "This notebook guides you through the process of authenticating with the Hugging Face Hub. You'll need this authentication to:\n",
    "- Access private models\n",
    "- Upload your own models\n",
    "- Use certain API features that require authentication\n",
    "\n",
    "## Prerequisites\n",
    "- A Hugging Face account (create one at https://huggingface.co/join)\n",
    "- Your authentication token (find it at https://huggingface.co/settings/tokens)"
   ]
  },
  {
   "cell_type": "markdown",
   "id": "a68f7141",
   "metadata": {},
   "source": [
    "## 1. Import Required Module\n",
    "\n",
    "First, we'll import the necessary module for Hugging Face Hub authentication. The `huggingface_hub` package provides tools for interacting with the Hugging Face Hub, including authentication management."
   ]
  },
  {
   "cell_type": "code",
   "execution_count": 1,
   "id": "442189de",
   "metadata": {},
   "outputs": [
    {
     "name": "stderr",
     "output_type": "stream",
     "text": [
      "/Users/arunraj/Movies/Serenesense/Serenesense/venv/lib/python3.12/site-packages/tqdm/auto.py:21: TqdmWarning: IProgress not found. Please update jupyter and ipywidgets. See https://ipywidgets.readthedocs.io/en/stable/user_install.html\n",
      "  from .autonotebook import tqdm as notebook_tqdm\n"
     ]
    }
   ],
   "source": [
    "# Import the notebook_login function from huggingface_hub\n",
    "from huggingface_hub import notebook_login"
   ]
  },
  {
   "cell_type": "markdown",
   "id": "66efbb09",
   "metadata": {},
   "source": [
    "## 2. Perform Login\n",
    "\n",
    "Now we'll use the `notebook_login()` function to authenticate. When you run this cell:\n",
    "1. A widget will appear asking for your token\n",
    "2. Enter your token from https://huggingface.co/settings/tokens\n",
    "3. The token will be saved securely for future use"
   ]
  },
  {
   "cell_type": "code",
   "execution_count": 2,
   "id": "cfa9aa99",
   "metadata": {},
   "outputs": [
    {
     "ename": "ImportError",
     "evalue": "The `notebook_login` function can only be used in a notebook (Jupyter or Colab) and you need the `ipywidgets` module: `pip install ipywidgets`.",
     "output_type": "error",
     "traceback": [
      "\u001b[31m---------------------------------------------------------------------------\u001b[39m",
      "\u001b[31mModuleNotFoundError\u001b[39m                       Traceback (most recent call last)",
      "\u001b[36mFile \u001b[39m\u001b[32m~/Movies/Serenesense/Serenesense/venv/lib/python3.12/site-packages/huggingface_hub/_login.py:340\u001b[39m, in \u001b[36mnotebook_login\u001b[39m\u001b[34m(new_session, write_permission)\u001b[39m\n\u001b[32m    339\u001b[39m \u001b[38;5;28;01mtry\u001b[39;00m:\n\u001b[32m--> \u001b[39m\u001b[32m340\u001b[39m     \u001b[38;5;28;01mimport\u001b[39;00m\u001b[38;5;250m \u001b[39m\u001b[34;01mipywidgets\u001b[39;00m\u001b[34;01m.\u001b[39;00m\u001b[34;01mwidgets\u001b[39;00m\u001b[38;5;250m \u001b[39m\u001b[38;5;28;01mas\u001b[39;00m\u001b[38;5;250m \u001b[39m\u001b[34;01mwidgets\u001b[39;00m  \u001b[38;5;66;03m# type: ignore\u001b[39;00m\n\u001b[32m    341\u001b[39m     \u001b[38;5;28;01mfrom\u001b[39;00m\u001b[38;5;250m \u001b[39m\u001b[34;01mIPython\u001b[39;00m\u001b[34;01m.\u001b[39;00m\u001b[34;01mdisplay\u001b[39;00m\u001b[38;5;250m \u001b[39m\u001b[38;5;28;01mimport\u001b[39;00m display  \u001b[38;5;66;03m# type: ignore\u001b[39;00m\n",
      "\u001b[31mModuleNotFoundError\u001b[39m: No module named 'ipywidgets'",
      "\nDuring handling of the above exception, another exception occurred:\n",
      "\u001b[31mImportError\u001b[39m                               Traceback (most recent call last)",
      "\u001b[36mCell\u001b[39m\u001b[36m \u001b[39m\u001b[32mIn[2]\u001b[39m\u001b[32m, line 2\u001b[39m\n\u001b[32m      1\u001b[39m \u001b[38;5;66;03m# Login to Hugging Face Hub\u001b[39;00m\n\u001b[32m----> \u001b[39m\u001b[32m2\u001b[39m \u001b[43mnotebook_login\u001b[49m\u001b[43m(\u001b[49m\u001b[43m)\u001b[49m\n",
      "\u001b[36mFile \u001b[39m\u001b[32m~/Movies/Serenesense/Serenesense/venv/lib/python3.12/site-packages/huggingface_hub/utils/_deprecation.py:101\u001b[39m, in \u001b[36m_deprecate_arguments.<locals>._inner_deprecate_positional_args.<locals>.inner_f\u001b[39m\u001b[34m(*args, **kwargs)\u001b[39m\n\u001b[32m     99\u001b[39m         message += \u001b[33m\"\u001b[39m\u001b[38;5;130;01m\\n\u001b[39;00m\u001b[38;5;130;01m\\n\u001b[39;00m\u001b[33m\"\u001b[39m + custom_message\n\u001b[32m    100\u001b[39m     warnings.warn(message, \u001b[38;5;167;01mFutureWarning\u001b[39;00m)\n\u001b[32m--> \u001b[39m\u001b[32m101\u001b[39m \u001b[38;5;28;01mreturn\u001b[39;00m \u001b[43mf\u001b[49m\u001b[43m(\u001b[49m\u001b[43m*\u001b[49m\u001b[43margs\u001b[49m\u001b[43m,\u001b[49m\u001b[43m \u001b[49m\u001b[43m*\u001b[49m\u001b[43m*\u001b[49m\u001b[43mkwargs\u001b[49m\u001b[43m)\u001b[49m\n",
      "\u001b[36mFile \u001b[39m\u001b[32m~/Movies/Serenesense/Serenesense/venv/lib/python3.12/site-packages/huggingface_hub/utils/_deprecation.py:31\u001b[39m, in \u001b[36m_deprecate_positional_args.<locals>._inner_deprecate_positional_args.<locals>.inner_f\u001b[39m\u001b[34m(*args, **kwargs)\u001b[39m\n\u001b[32m     29\u001b[39m extra_args = \u001b[38;5;28mlen\u001b[39m(args) - \u001b[38;5;28mlen\u001b[39m(all_args)\n\u001b[32m     30\u001b[39m \u001b[38;5;28;01mif\u001b[39;00m extra_args <= \u001b[32m0\u001b[39m:\n\u001b[32m---> \u001b[39m\u001b[32m31\u001b[39m     \u001b[38;5;28;01mreturn\u001b[39;00m \u001b[43mf\u001b[49m\u001b[43m(\u001b[49m\u001b[43m*\u001b[49m\u001b[43margs\u001b[49m\u001b[43m,\u001b[49m\u001b[43m \u001b[49m\u001b[43m*\u001b[49m\u001b[43m*\u001b[49m\u001b[43mkwargs\u001b[49m\u001b[43m)\u001b[49m\n\u001b[32m     32\u001b[39m \u001b[38;5;66;03m# extra_args > 0\u001b[39;00m\n\u001b[32m     33\u001b[39m args_msg = [\n\u001b[32m     34\u001b[39m     \u001b[33mf\u001b[39m\u001b[33m\"\u001b[39m\u001b[38;5;132;01m{\u001b[39;00mname\u001b[38;5;132;01m}\u001b[39;00m\u001b[33m=\u001b[39m\u001b[33m'\u001b[39m\u001b[38;5;132;01m{\u001b[39;00marg\u001b[38;5;132;01m}\u001b[39;00m\u001b[33m'\u001b[39m\u001b[33m\"\u001b[39m \u001b[38;5;28;01mif\u001b[39;00m \u001b[38;5;28misinstance\u001b[39m(arg, \u001b[38;5;28mstr\u001b[39m) \u001b[38;5;28;01melse\u001b[39;00m \u001b[33mf\u001b[39m\u001b[33m\"\u001b[39m\u001b[38;5;132;01m{\u001b[39;00mname\u001b[38;5;132;01m}\u001b[39;00m\u001b[33m=\u001b[39m\u001b[38;5;132;01m{\u001b[39;00marg\u001b[38;5;132;01m}\u001b[39;00m\u001b[33m\"\u001b[39m\n\u001b[32m     35\u001b[39m     \u001b[38;5;28;01mfor\u001b[39;00m name, arg \u001b[38;5;129;01min\u001b[39;00m \u001b[38;5;28mzip\u001b[39m(kwonly_args[:extra_args], args[-extra_args:])\n\u001b[32m     36\u001b[39m ]\n",
      "\u001b[36mFile \u001b[39m\u001b[32m~/Movies/Serenesense/Serenesense/venv/lib/python3.12/site-packages/huggingface_hub/_login.py:343\u001b[39m, in \u001b[36mnotebook_login\u001b[39m\u001b[34m(new_session, write_permission)\u001b[39m\n\u001b[32m    341\u001b[39m     \u001b[38;5;28;01mfrom\u001b[39;00m\u001b[38;5;250m \u001b[39m\u001b[34;01mIPython\u001b[39;00m\u001b[34;01m.\u001b[39;00m\u001b[34;01mdisplay\u001b[39;00m\u001b[38;5;250m \u001b[39m\u001b[38;5;28;01mimport\u001b[39;00m display  \u001b[38;5;66;03m# type: ignore\u001b[39;00m\n\u001b[32m    342\u001b[39m \u001b[38;5;28;01mexcept\u001b[39;00m \u001b[38;5;167;01mImportError\u001b[39;00m:\n\u001b[32m--> \u001b[39m\u001b[32m343\u001b[39m     \u001b[38;5;28;01mraise\u001b[39;00m \u001b[38;5;167;01mImportError\u001b[39;00m(\n\u001b[32m    344\u001b[39m         \u001b[33m\"\u001b[39m\u001b[33mThe `notebook_login` function can only be used in a notebook (Jupyter or\u001b[39m\u001b[33m\"\u001b[39m\n\u001b[32m    345\u001b[39m         \u001b[33m\"\u001b[39m\u001b[33m Colab) and you need the `ipywidgets` module: `pip install ipywidgets`.\u001b[39m\u001b[33m\"\u001b[39m\n\u001b[32m    346\u001b[39m     )\n\u001b[32m    347\u001b[39m \u001b[38;5;28;01mif\u001b[39;00m \u001b[38;5;129;01mnot\u001b[39;00m new_session \u001b[38;5;129;01mand\u001b[39;00m get_token() \u001b[38;5;129;01mis\u001b[39;00m \u001b[38;5;129;01mnot\u001b[39;00m \u001b[38;5;28;01mNone\u001b[39;00m:\n\u001b[32m    348\u001b[39m     logger.info(\u001b[33m\"\u001b[39m\u001b[33mUser is already logged in.\u001b[39m\u001b[33m\"\u001b[39m)\n",
      "\u001b[31mImportError\u001b[39m: The `notebook_login` function can only be used in a notebook (Jupyter or Colab) and you need the `ipywidgets` module: `pip install ipywidgets`."
     ]
    }
   ],
   "source": [
    "# Login to Hugging Face Hub\n",
    "notebook_login()"
   ]
  },
  {
   "cell_type": "markdown",
   "id": "9321922d",
   "metadata": {},
   "source": [
    "## 3. Verify Authentication\n",
    "\n",
    "Let's verify that the authentication was successful. We'll use the `HfApi` class to check our token and get information about the authenticated user."
   ]
  },
  {
   "cell_type": "code",
   "execution_count": null,
   "id": "8dff92f2",
   "metadata": {},
   "outputs": [],
   "source": [
    "# Verify authentication\n",
    "from huggingface_hub import HfApi\n",
    "api = HfApi()\n",
    "\n",
    "# Get current user information\n",
    "try:\n",
    "    user_info = api.whoami()\n",
    "    print(f\"Successfully authenticated as: {user_info['name']}\")\n",
    "    print(f\"Email: {user_info['email']}\")\n",
    "    print(f\"Organizations: {', '.join(user_info['orgs']) if user_info['orgs'] else 'None'}\")\n",
    "except Exception as e:\n",
    "    print(f\"Authentication error: {str(e)}\")"
   ]
  },
  {
   "cell_type": "markdown",
   "id": "4d155e7f",
   "metadata": {},
   "source": [
    "## 4. Token Management\n",
    "\n",
    "Your authentication token is stored securely in the Hugging Face cache directory. Here's how to manage your token:"
   ]
  },
  {
   "cell_type": "code",
   "execution_count": null,
   "id": "1cccffcf",
   "metadata": {},
   "outputs": [],
   "source": [
    "# Show token location and management options\n",
    "from huggingface_hub import get_token\n",
    "from pathlib import Path\n",
    "import os\n",
    "\n",
    "# Get the current token\n",
    "token = get_token()\n",
    "\n",
    "if token:\n",
    "    print(\"Token Management Information:\")\n",
    "    print(\"-\" * 50)\n",
    "    print(f\"Token is valid: {'Yes' if token else 'No'}\")\n",
    "    \n",
    "    # Show cache location\n",
    "    cache_dir = os.path.expanduser(\"~/.cache/huggingface\")\n",
    "    token_path = Path(cache_dir) / \"token\"\n",
    "    print(f\"\\nToken stored at: {token_path}\")\n",
    "    \n",
    "    print(\"\\nTo logout and remove the token:\")\n",
    "    print(\"1. Use huggingface_hub.logout()\")\n",
    "    print(\"2. Or delete the token file manually\")\n",
    "else:\n",
    "    print(\"No valid token found. Please run notebook_login() to authenticate.\")"
   ]
  },
  {
   "cell_type": "markdown",
   "id": "cdf2a198",
   "metadata": {},
   "source": [
    "## Next Steps\n",
    "\n",
    "Now that you're authenticated, you can:\n",
    "1. Access private models and datasets\n",
    "2. Upload your own models to the Hub\n",
    "3. Use the Hugging Face Inference API\n",
    "4. Collaborate with your organization members\n",
    "\n",
    "Remember to keep your token secure and never share it publicly!"
   ]
  }
 ],
 "metadata": {
  "kernelspec": {
   "display_name": "venv",
   "language": "python",
   "name": "python3"
  },
  "language_info": {
   "codemirror_mode": {
    "name": "ipython",
    "version": 3
   },
   "file_extension": ".py",
   "mimetype": "text/x-python",
   "name": "python",
   "nbconvert_exporter": "python",
   "pygments_lexer": "ipython3",
   "version": "3.12.9"
  }
 },
 "nbformat": 4,
 "nbformat_minor": 5
}
